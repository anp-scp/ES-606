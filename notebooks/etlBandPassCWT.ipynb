{
 "cells": [
  {
   "cell_type": "code",
   "execution_count": 1,
   "metadata": {},
   "outputs": [],
   "source": [
    "import pandas as pd\n",
    "import numpy as np\n",
    "import matplotlib.pyplot as plt\n",
    "from tqdm.auto import tqdm\n",
    "from scipy import signal"
   ]
  },
  {
   "attachments": {},
   "cell_type": "markdown",
   "metadata": {},
   "source": [
    "### Load the saved numpy arrays"
   ]
  },
  {
   "cell_type": "code",
   "execution_count": 2,
   "metadata": {},
   "outputs": [
    {
     "name": "stdout",
     "output_type": "stream",
     "text": [
      "Event tensors shape: (64470, 14, 256)\n",
      "Target tensors shape: (64470,)\n"
     ]
    }
   ],
   "source": [
    "dirPath = 'processedData/allChannels/'\n",
    "eventArrays = np.load(dirPath + 'eventArrays.npy')\n",
    "targets = np.load(dirPath + 'targets.npy')\n",
    "print(\"Event tensors shape: {}\".format(eventArrays.shape))\n",
    "print(\"Target tensors shape: {}\".format(targets.shape))"
   ]
  },
  {
   "attachments": {},
   "cell_type": "markdown",
   "metadata": {},
   "source": [
    "### Create scalogram for all recordings using CWT"
   ]
  },
  {
   "cell_type": "code",
   "execution_count": 3,
   "metadata": {},
   "outputs": [
    {
     "data": {
      "application/vnd.jupyter.widget-view+json": {
       "model_id": "3461321b001e462aa326cbfbdc140b0c",
       "version_major": 2,
       "version_minor": 0
      },
      "text/plain": [
       "Events:   0%|          | 0/64470 [00:00<?, ?it/s]"
      ]
     },
     "metadata": {},
     "output_type": "display_data"
    },
    {
     "name": "stdout",
     "output_type": "stream",
     "text": [
      "Saving saclograms_batch_1.npy of shape: (10000, 14, 45, 256)\n",
      "Saving saclograms_batch_2.npy of shape: (10000, 14, 45, 256)\n",
      "Saving saclograms_batch_3.npy of shape: (10000, 14, 45, 256)\n",
      "Saving saclograms_batch_4.npy of shape: (10000, 14, 45, 256)\n",
      "Saving saclograms_batch_5.npy of shape: (10000, 14, 45, 256)\n",
      "Saving saclograms_batch_6.npy of shape: (10000, 14, 45, 256)\n",
      "Saving saclograms_batch_7.npy of shape: (4470, 14, 45, 256)\n"
     ]
    }
   ],
   "source": [
    "widths = np.arange(1, 46)\n",
    "eventCWTs = []\n",
    "counter = 0\n",
    "progress = tqdm(total = 64470, desc='Events')\n",
    "for event in eventArrays:\n",
    "    channelCWTAmpS = []   \n",
    "    for channel in event:\n",
    "        cwtmatr = signal.cwt(channel, signal.morlet2, widths)\n",
    "        cwtmatr_yflip = np.flipud(cwtmatr)\n",
    "        channelCWTAmpS.append(np.absolute(cwtmatr_yflip))\n",
    "    eventCWTs.append(np.stack(channelCWTAmpS, axis=0))\n",
    "    if (counter + 1) % 10000 == 0:\n",
    "        name = f\"saclograms_batch_{(counter+1)//10000}.npy\"\n",
    "        eventCWTs = np.stack(eventCWTs, axis=0)\n",
    "        print(\"Saving {} of shape: {}\".format(name, eventCWTs.shape))\n",
    "        np.save(dirPath+name, eventCWTs)\n",
    "        eventCWTs = []\n",
    "    if (counter + 1) == 64470:\n",
    "        name = f\"saclograms_batch_{7}.npy\"\n",
    "        eventCWTs = np.stack(eventCWTs, axis=0)\n",
    "        print(\"Saving {} of shape: {}\".format(name, eventCWTs.shape))\n",
    "        np.save(dirPath+name, eventCWTs)\n",
    "        eventCWTs = []\n",
    "    counter += 1\n",
    "    progress.update(1)\n",
    "# eventCWTs = np.stack(eventCWTs, axis=0)\n",
    "# print(\"Event scalogram shape: {}\".format(eventCWTs.shape))"
   ]
  },
  {
   "cell_type": "code",
   "execution_count": null,
   "metadata": {},
   "outputs": [],
   "source": [
    "# for checkondata in range(1,20):\n",
    "#     # checkondata = 230\n",
    "#     checkonchannel = 3\n",
    "#     fig = plt.figure()\n",
    "#     ax = fig.add_subplot(121)\n",
    "#     ax.plot(eventArrays[checkondata,checkonchannel,:])\n",
    "#     ax = fig.add_subplot(122)\n",
    "#     im = ax.imshow(eventCWTs[checkondata,checkonchannel,:,:], aspect='auto', extent=[0,256,1,31])\n",
    "#     plt.colorbar(im)\n",
    "#     fig.tight_layout()\n",
    "#     plt.show()"
   ]
  },
  {
   "cell_type": "code",
   "execution_count": 5,
   "metadata": {},
   "outputs": [],
   "source": [
    "np.save(dirPath+\"eventScalogram.npy\", eventCWTs)"
   ]
  }
 ],
 "metadata": {
  "kernelspec": {
   "display_name": "anp_101",
   "language": "python",
   "name": "python3"
  },
  "language_info": {
   "codemirror_mode": {
    "name": "ipython",
    "version": 3
   },
   "file_extension": ".py",
   "mimetype": "text/x-python",
   "name": "python",
   "nbconvert_exporter": "python",
   "pygments_lexer": "ipython3",
   "version": "3.8.16"
  },
  "orig_nbformat": 4
 },
 "nbformat": 4,
 "nbformat_minor": 2
}
