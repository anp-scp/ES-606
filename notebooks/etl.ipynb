{
 "cells": [
  {
   "cell_type": "code",
   "execution_count": 1,
   "metadata": {},
   "outputs": [],
   "source": [
    "import pandas as pd\n",
    "import numpy as np\n",
    "import torch"
   ]
  },
  {
   "cell_type": "code",
   "execution_count": 2,
   "metadata": {},
   "outputs": [
    {
     "data": {
      "text/html": [
       "<div>\n",
       "<style scoped>\n",
       "    .dataframe tbody tr th:only-of-type {\n",
       "        vertical-align: middle;\n",
       "    }\n",
       "\n",
       "    .dataframe tbody tr th {\n",
       "        vertical-align: top;\n",
       "    }\n",
       "\n",
       "    .dataframe thead th {\n",
       "        text-align: right;\n",
       "    }\n",
       "</style>\n",
       "<table border=\"1\" class=\"dataframe\">\n",
       "  <thead>\n",
       "    <tr style=\"text-align: right;\">\n",
       "      <th></th>\n",
       "      <th>id</th>\n",
       "      <th>event</th>\n",
       "      <th>device</th>\n",
       "      <th>channel</th>\n",
       "      <th>code</th>\n",
       "      <th>size</th>\n",
       "      <th>data</th>\n",
       "    </tr>\n",
       "  </thead>\n",
       "  <tbody>\n",
       "    <tr>\n",
       "      <th>0</th>\n",
       "      <td>67635</td>\n",
       "      <td>67635</td>\n",
       "      <td>EP</td>\n",
       "      <td>AF3</td>\n",
       "      <td>6</td>\n",
       "      <td>260</td>\n",
       "      <td>4395.384615,4382.564102,4377.435897,4387.17948...</td>\n",
       "    </tr>\n",
       "    <tr>\n",
       "      <th>1</th>\n",
       "      <td>67636</td>\n",
       "      <td>67635</td>\n",
       "      <td>EP</td>\n",
       "      <td>F7</td>\n",
       "      <td>6</td>\n",
       "      <td>260</td>\n",
       "      <td>4489.230769,4475.384615,4474.358974,4486.66666...</td>\n",
       "    </tr>\n",
       "    <tr>\n",
       "      <th>2</th>\n",
       "      <td>67637</td>\n",
       "      <td>67635</td>\n",
       "      <td>EP</td>\n",
       "      <td>F3</td>\n",
       "      <td>6</td>\n",
       "      <td>260</td>\n",
       "      <td>4538.461538,4528.717948,4524.615384,4526.15384...</td>\n",
       "    </tr>\n",
       "    <tr>\n",
       "      <th>3</th>\n",
       "      <td>67638</td>\n",
       "      <td>67635</td>\n",
       "      <td>EP</td>\n",
       "      <td>FC5</td>\n",
       "      <td>6</td>\n",
       "      <td>260</td>\n",
       "      <td>4207.692307,4205.641025,4200.512820,4194.35897...</td>\n",
       "    </tr>\n",
       "    <tr>\n",
       "      <th>4</th>\n",
       "      <td>67639</td>\n",
       "      <td>67635</td>\n",
       "      <td>EP</td>\n",
       "      <td>T7</td>\n",
       "      <td>6</td>\n",
       "      <td>260</td>\n",
       "      <td>4497.948717,4498.461538,4494.871794,4497.94871...</td>\n",
       "    </tr>\n",
       "  </tbody>\n",
       "</table>\n",
       "</div>"
      ],
      "text/plain": [
       "      id  event device channel  code  size  \\\n",
       "0  67635  67635     EP     AF3     6   260   \n",
       "1  67636  67635     EP      F7     6   260   \n",
       "2  67637  67635     EP      F3     6   260   \n",
       "3  67638  67635     EP     FC5     6   260   \n",
       "4  67639  67635     EP      T7     6   260   \n",
       "\n",
       "                                                data  \n",
       "0  4395.384615,4382.564102,4377.435897,4387.17948...  \n",
       "1  4489.230769,4475.384615,4474.358974,4486.66666...  \n",
       "2  4538.461538,4528.717948,4524.615384,4526.15384...  \n",
       "3  4207.692307,4205.641025,4200.512820,4194.35897...  \n",
       "4  4497.948717,4498.461538,4494.871794,4497.94871...  "
      ]
     },
     "execution_count": 2,
     "metadata": {},
     "output_type": "execute_result"
    }
   ],
   "source": [
    "# loadDataFrom = '../data/EP_30.txt'\n",
    "loadDataFrom = '../data/EP1.01.txt'\n",
    "storeTensorsTo = \"processedData/channelSlectedNoisyIEEE9616192\"\n",
    "columns = ['id', 'event', 'device', 'channel', 'code', 'size', 'data']\n",
    "channelToConsider = pd.Series(['P7', 'P8', 'T7', 'T8'])\n",
    "dF = pd.read_csv(filepath_or_buffer=loadDataFrom, sep='\\s+', names=columns)\n",
    "dF.head(5)"
   ]
  },
  {
   "cell_type": "code",
   "execution_count": 3,
   "metadata": {},
   "outputs": [
    {
     "data": {
      "text/plain": [
       "136"
      ]
     },
     "execution_count": 3,
     "metadata": {},
     "output_type": "execute_result"
    }
   ],
   "source": [
    "cleanDf = dF.drop(['id', 'device'], axis=1)\n",
    "cleanDf['size'] = pd.to_numeric(cleanDf['size'])\n",
    "cleanDf['event'] = pd.to_numeric(cleanDf['event'])\n",
    "cleanDf['code'] = pd.to_numeric(cleanDf['code'])\n",
    "minSize = cleanDf['size'].min()\n",
    "minSize"
   ]
  },
  {
   "cell_type": "code",
   "execution_count": 4,
   "metadata": {},
   "outputs": [],
   "source": [
    "events = cleanDf['event'].drop_duplicates().to_numpy()\n",
    "numEvents = len(events)\n",
    "targets = []\n",
    "eventTensors = []"
   ]
  },
  {
   "cell_type": "code",
   "execution_count": 5,
   "metadata": {},
   "outputs": [
    {
     "name": "stdout",
     "output_type": "stream",
     "text": [
      "Skipping event: 67958, due to data points less than 250\n",
      "Skipping event: 67961, due to data points less than 250\n",
      "Skipping event: 69134, due to data points less than 250\n",
      "Skipping event: 71205, due to data points less than 250\n",
      "Skipping event: 75672, due to data points less than 250\n",
      "Skipping event: 78140, due to data points less than 250\n",
      "Skipping event: 83585, due to data points less than 250\n",
      "Skipping event: 86406, due to data points less than 250\n",
      "Skipping event: 86445, due to data points less than 250\n",
      "Skipping event: 87314, due to data points less than 250\n",
      "Skipping event: 88063, due to data points less than 250\n",
      "Skipping event: 88412, due to data points less than 250\n",
      "Skipping event: 88416, due to data points less than 250\n",
      "Skipping event: 89741, due to data points less than 250\n",
      "Skipping event: 97188, due to data points less than 250\n",
      "Skipping event: 102737, due to data points less than 250\n",
      "Skipping event: 102740, due to data points less than 250\n",
      "Skipping event: 110896, due to data points less than 250\n",
      "Skipping event: 114053, due to data points less than 250\n",
      "Skipping event: 115735, due to data points less than 250\n",
      "Skipping event: 116529, due to data points less than 250\n",
      "Skipping event: 116530, due to data points less than 250\n",
      "Skipping event: 116534, due to data points less than 250\n",
      "Skipping event: 117333, due to data points less than 250\n",
      "Skipping event: 119642, due to data points less than 250\n",
      "Skipping event: 122264, due to data points less than 250\n",
      "Skipping event: 123993, due to data points less than 250\n",
      "Skipping event: 126748, due to data points less than 250\n",
      "Skipping event: 126749, due to data points less than 250\n",
      "Skipping event: 129562, due to data points less than 250\n"
     ]
    }
   ],
   "source": [
    "for event in events:\n",
    "    eventGroup = cleanDf.loc[cleanDf['event'] == event]\n",
    "    eventData = []\n",
    "    skip = False\n",
    "    if channelToConsider.isin(eventGroup['channel']).all():\n",
    "        for channel in channelToConsider:\n",
    "            channelData = eventGroup.loc[eventGroup['channel'] == channel]['data'].values[0]\n",
    "            channelData = np.fromstring(channelData, dtype=np.float, sep=',')[:250]\n",
    "            if channelData.shape[0] < 250:\n",
    "                skip = True\n",
    "                break\n",
    "            eventData.append(channelData)\n",
    "        if skip:\n",
    "            print('Skipping event: {}, due to data points less than 250'.format(event))\n",
    "            continue\n",
    "        eventTensors.append(torch.tensor(np.vstack(eventData)))\n",
    "        targets.append(eventGroup.iloc[0]['code'])\n",
    "    else:\n",
    "        print(\"Skipping event: {}, due to lack of required channel's data\".format(event))"
   ]
  },
  {
   "cell_type": "code",
   "execution_count": 6,
   "metadata": {},
   "outputs": [
    {
     "name": "stdout",
     "output_type": "stream",
     "text": [
      "Event tensors shape: torch.Size([65004, 4, 250])\n",
      "Target tensors shape: torch.Size([65004])\n"
     ]
    }
   ],
   "source": [
    "eventTensors = torch.stack(eventTensors, dim=0)\n",
    "targets = torch.tensor(targets)\n",
    "print(\"Event tensors shape: {}\".format(eventTensors.shape))\n",
    "print(\"Target tensors shape: {}\".format(targets.shape))"
   ]
  },
  {
   "cell_type": "code",
   "execution_count": 7,
   "metadata": {},
   "outputs": [],
   "source": [
    "torch.save(eventTensors, storeTensorsTo+\"/eventTensors.pt\")\n",
    "torch.save(targets, storeTensorsTo+\"/targets.pt\")"
   ]
  }
 ],
 "metadata": {
  "kernelspec": {
   "display_name": "anp_101",
   "language": "python",
   "name": "python3"
  },
  "language_info": {
   "codemirror_mode": {
    "name": "ipython",
    "version": 3
   },
   "file_extension": ".py",
   "mimetype": "text/x-python",
   "name": "python",
   "nbconvert_exporter": "python",
   "pygments_lexer": "ipython3",
   "version": "3.8.16"
  },
  "orig_nbformat": 4
 },
 "nbformat": 4,
 "nbformat_minor": 2
}
