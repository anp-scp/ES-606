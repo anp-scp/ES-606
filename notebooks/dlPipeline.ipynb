{
 "cells": [
  {
   "cell_type": "code",
   "execution_count": 1,
   "metadata": {},
   "outputs": [],
   "source": [
    "import torch\n",
    "from torch import nn\n",
    "from torch.utils.data import DataLoader, Dataset\n",
    "from torch.utils.tensorboard import SummaryWriter\n",
    "from tqdm.auto import tqdm\n",
    "from itertools import product\n",
    "from torchsummary import summary\n",
    "import numpy as np\n",
    "import shutil\n",
    "import os\n",
    "\n",
    "min_loss_so_far = float('inf')\n",
    "tbPath = 'dlPipeline/runs/'\n",
    "modelPath = 'dlPipeline/models/'\n",
    "shutil.rmtree(modelPath, ignore_errors=True)\n",
    "shutil.rmtree(tbPath, ignore_errors=True)\n",
    "os.makedirs(modelPath)\n",
    "os.makedirs(tbPath)"
   ]
  },
  {
   "cell_type": "code",
   "execution_count": 2,
   "metadata": {},
   "outputs": [],
   "source": [
    "class CustomBrainMNIST(Dataset):\n",
    "    def __init__(self, eventArrays: np.array, targetsArray: np.array, extends: tuple):\n",
    "        eventTensors = torch.Tensor(eventArrays)\n",
    "        targets = torch.tensor(targetsArray)\n",
    "        self.eventTensors = eventTensors[extends[0]: extends[1]]\n",
    "        self.targets = targets[extends[0]: extends[1]]\n",
    "    \n",
    "    def __len__(self):\n",
    "        return self.targets.shape[0]\n",
    "    \n",
    "    def __getitem__(self, index):\n",
    "        eeg = self.eventTensors[index]\n",
    "        eegWithInChannel = eeg.reshape(1,4,256)\n",
    "        target = self.targets[index].item()\n",
    "        return eegWithInChannel, target"
   ]
  },
  {
   "cell_type": "code",
   "execution_count": 3,
   "metadata": {},
   "outputs": [
    {
     "data": {
      "text/plain": [
       "((64470,), (64470, 4, 256))"
      ]
     },
     "execution_count": 3,
     "metadata": {},
     "output_type": "execute_result"
    }
   ],
   "source": [
    "tensorDir = 'processedData/channelSlectedBandPassed/npy/eventArrays.npy'\n",
    "targetsDir = 'processedData/channelSlectedBandPassed/npy/targets.npy'\n",
    "npData = np.load(tensorDir)\n",
    "npTargets = np.load(targetsDir)\n",
    "randomIndex = np.random.permutation(npTargets.shape[0])\n",
    "npData = npData[randomIndex]\n",
    "npTargets = npTargets[randomIndex]\n",
    "npTargets.shape, npData.shape"
   ]
  },
  {
   "cell_type": "code",
   "execution_count": 4,
   "metadata": {},
   "outputs": [
    {
     "data": {
      "text/plain": [
       "(44470, 10000, 10000)"
      ]
     },
     "execution_count": 4,
     "metadata": {},
     "output_type": "execute_result"
    }
   ],
   "source": [
    "trainExtend = (0, 44470)\n",
    "validationExtend = (44470, 54470)\n",
    "testExtend = (54470, 64470)\n",
    "training_data = CustomBrainMNIST(eventArrays=npData, targetsArray=npTargets, extends=trainExtend)\n",
    "validation_data = CustomBrainMNIST(eventArrays=npData, targetsArray=npTargets, extends=validationExtend)\n",
    "testing_data = CustomBrainMNIST(eventArrays=npData, targetsArray=npTargets, extends=testExtend)\n",
    "len(training_data), len(validation_data), len(testing_data)"
   ]
  },
  {
   "cell_type": "code",
   "execution_count": 5,
   "metadata": {},
   "outputs": [],
   "source": [
    "class CNN001(nn.Module):\n",
    "    def __init__(self):\n",
    "        super().__init__()\n",
    "        self.temporalConvolution1 = nn.Sequential(\n",
    "            nn.Conv2d(1,32,(1,32)),\n",
    "            nn.ReLU()\n",
    "        )\n",
    "        self.spatialConvolution = nn.Sequential(\n",
    "            nn.Conv2d(32,25,(4,1)),\n",
    "            nn.ReLU()\n",
    "        )\n",
    "        self.maxpool = nn.MaxPool2d((1,5))\n",
    "        self.temporalConvolution2 = nn.Sequential(\n",
    "            nn.Conv2d(25,32,(1,8)),\n",
    "            nn.ReLU()\n",
    "        )\n",
    "        self.flatten = nn.Flatten()\n",
    "        self.fcl = nn.Sequential(\n",
    "            nn.Linear(38*32,512),\n",
    "            nn.ReLU(),\n",
    "            nn.Linear(512,10)\n",
    "        )\n",
    "    \n",
    "    def forward(self, x):\n",
    "        out = self.temporalConvolution1(x)\n",
    "        out = self.spatialConvolution(out)\n",
    "        out = self.maxpool(out)\n",
    "        out = self.temporalConvolution2(out)\n",
    "        out = self.flatten(out)\n",
    "        logits = self.fcl(out)\n",
    "        return logits"
   ]
  },
  {
   "cell_type": "code",
   "execution_count": 6,
   "metadata": {},
   "outputs": [],
   "source": [
    "def model_trainer(training_args: dict):\n",
    "    global min_loss_so_far\n",
    "    batch_size = int(training_args.get('batch_size', 8))\n",
    "    device = training_args.get('dev_id')\n",
    "    lr=float(training_args.get('lr',0.0001))\n",
    "    epochs = int(training_args.get('num_epochs',10))\n",
    "    tbPath = training_args['tbPath']\n",
    "    modelPath = training_args['modelPath']\n",
    "    # print((batch_size, device, lr, epochs, tbPath, modelPath))\n",
    "    model_name = '_epochs=' + str(epochs) + '_lr=' + str(lr) + '_batchSize=' + str(batch_size)\n",
    "    tb = SummaryWriter(log_dir=tbPath + model_name)\n",
    "\n",
    "    training_dataloader = DataLoader(training_data, shuffle=True, batch_size=batch_size)\n",
    "    validation_dataloader = DataLoader(validation_data, batch_size=batch_size)\n",
    "\n",
    "    model = CNN001()\n",
    "    #print(model)\n",
    "    loss_criterion = nn.CrossEntropyLoss()\n",
    "    optimizer = torch.optim.Adam(model.parameters(), lr=lr)\n",
    "    model = model.to(device)\n",
    "    train_step = 0\n",
    "    val_step = 0\n",
    "\n",
    "    for epoch in tqdm(range(epochs), desc='Epochs'):\n",
    "        ## training\n",
    "        model.train()\n",
    "        train_loss = 0\n",
    "        num_train_batches = len(training_dataloader)\n",
    "        for batch, (X, y) in enumerate(training_dataloader):\n",
    "            train_step += 1\n",
    "            X = X.to(device)\n",
    "            y = y.to(device)\n",
    "            pred = model(X)\n",
    "            loss = loss_criterion(pred, y)\n",
    "            # Backpropagation\n",
    "            optimizer.zero_grad()\n",
    "            loss.backward()\n",
    "            optimizer.step()\n",
    "            loss = loss.item()\n",
    "            train_loss += loss\n",
    "            tb.add_scalar('training loss vs step', loss, train_step)\n",
    "        train_loss /= num_train_batches\n",
    "\n",
    "        #validating\n",
    "        val_size = len(validation_dataloader.dataset)\n",
    "        num_val_batches = len(validation_dataloader)\n",
    "        val_loss, correct = 0, 0\n",
    "        model.eval()\n",
    "        with torch.no_grad():\n",
    "            for X, y in validation_dataloader:\n",
    "                val_step += 1\n",
    "                X = X.to(device)\n",
    "                y = y.to(device)\n",
    "                pred = model(X)\n",
    "                loss = loss_criterion(pred, y).item()\n",
    "                val_loss += loss\n",
    "                tb.add_scalar('validation loss vs step', loss, val_step)\n",
    "                correct += (pred.argmax(1) == y).type(torch.float).sum().item()\n",
    "        \n",
    "        val_loss /= num_val_batches\n",
    "        correct /= val_size\n",
    "        accuracy = 100*correct\n",
    "        if val_loss < min_loss_so_far:\n",
    "            min_loss_so_far = val_loss\n",
    "            checkpoint = dict()\n",
    "            checkpoint['sd'] = model.state_dict()\n",
    "            checkpoint['h_params'] = model_name\n",
    "            checkpoint['saved_epoch'] = epoch\n",
    "            torch.save(checkpoint, modelPath + 'bestModelSoFar.pt')\n",
    "        tb.add_scalar('average training loss vs epoch', train_loss, epoch)\n",
    "        tb.add_scalar('average validation loss vs epoch', val_loss, epoch)\n",
    "        tb.add_scalar('validation accuracy vs epoch', accuracy, epoch)\n",
    "    \n",
    "    del model\n",
    "    del training_dataloader\n",
    "    del validation_dataloader    "
   ]
  },
  {
   "cell_type": "code",
   "execution_count": 7,
   "metadata": {},
   "outputs": [],
   "source": [
    "# tempModel = CNN001().to(torch.device(\"cuda:1\"))\n",
    "# summary(tempModel, (1,4,256))\n",
    "# del tempModel"
   ]
  },
  {
   "cell_type": "code",
   "execution_count": 7,
   "metadata": {},
   "outputs": [
    {
     "name": "stdout",
     "output_type": "stream",
     "text": [
      "cuda:1\n",
      "Run ID: 0 | H Params==> lr:0.001, batch_size:100, epochs:50\n"
     ]
    },
    {
     "name": "stderr",
     "output_type": "stream",
     "text": [
      "2023-04-29 19:34:45.685333: I tensorflow/core/platform/cpu_feature_guard.cc:193] This TensorFlow binary is optimized with oneAPI Deep Neural Network Library (oneDNN) to use the following CPU instructions in performance-critical operations:  AVX2 AVX512F AVX512_VNNI FMA\n",
      "To enable them in other operations, rebuild TensorFlow with the appropriate compiler flags.\n",
      "2023-04-29 19:34:46.811508: I tensorflow/core/util/port.cc:104] oneDNN custom operations are on. You may see slightly different numerical results due to floating-point round-off errors from different computation orders. To turn them off, set the environment variable `TF_ENABLE_ONEDNN_OPTS=0`.\n",
      "2023-04-29 19:34:50.370074: W tensorflow/compiler/xla/stream_executor/platform/default/dso_loader.cc:64] Could not load dynamic library 'libnvinfer.so.7'; dlerror: libnvinfer.so.7: cannot open shared object file: No such file or directory; LD_LIBRARY_PATH: :/home/sharmaanupam/.conda/envs/anp_103/lib64:/home/sharmaanupam/.conda/envs/anp_103/lib:/usr/local/cuda-10.1/lib64:/usr/local/cuda-10.1/lib64/stubs\n",
      "2023-04-29 19:34:50.370210: W tensorflow/compiler/xla/stream_executor/platform/default/dso_loader.cc:64] Could not load dynamic library 'libnvinfer_plugin.so.7'; dlerror: libnvinfer_plugin.so.7: cannot open shared object file: No such file or directory; LD_LIBRARY_PATH: :/home/sharmaanupam/.conda/envs/anp_103/lib64:/home/sharmaanupam/.conda/envs/anp_103/lib:/usr/local/cuda-10.1/lib64:/usr/local/cuda-10.1/lib64/stubs\n",
      "2023-04-29 19:34:50.370236: W tensorflow/compiler/tf2tensorrt/utils/py_utils.cc:38] TF-TRT Warning: Cannot dlopen some TensorRT libraries. If you would like to use Nvidia GPU with TensorRT, please make sure the missing libraries mentioned above are installed properly.\n"
     ]
    },
    {
     "data": {
      "application/vnd.jupyter.widget-view+json": {
       "model_id": "da7852625306481199bab0b6f9032613",
       "version_major": 2,
       "version_minor": 0
      },
      "text/plain": [
       "Epochs:   0%|          | 0/50 [00:00<?, ?it/s]"
      ]
     },
     "metadata": {},
     "output_type": "display_data"
    },
    {
     "name": "stdout",
     "output_type": "stream",
     "text": [
      "Run ID: 1 | H Params==> lr:0.01, batch_size:100, epochs:50\n"
     ]
    },
    {
     "data": {
      "application/vnd.jupyter.widget-view+json": {
       "model_id": "8235ba7207f04bd9a035a517d729b006",
       "version_major": 2,
       "version_minor": 0
      },
      "text/plain": [
       "Epochs:   0%|          | 0/50 [00:00<?, ?it/s]"
      ]
     },
     "metadata": {},
     "output_type": "display_data"
    }
   ],
   "source": [
    "parameters = dict(\n",
    "    lr = [0.001, 0.01],\n",
    "    batch_size = [100],\n",
    "    epochs = [50]\n",
    ")\n",
    "\n",
    "param_values = [v for v in parameters.values()]\n",
    "## performing hyper paramete tuning\n",
    "device = torch.device(\"cuda:1\") if torch.cuda.is_available() else torch.device(\"cpu\")\n",
    "print(device)\n",
    "for run_id, (lr,batch_size, epochs) in enumerate(product(*param_values)):\n",
    "    print(\"Run ID: {} | H Params==> lr:{}, batch_size:{}, epochs:{}\".format(run_id, lr, batch_size, epochs))\n",
    "    training_args = dict()\n",
    "    training_args['num_epochs'] = epochs\n",
    "    training_args['lr'] = lr\n",
    "    training_args['batch_size'] = batch_size\n",
    "    training_args['dev_id'] = device\n",
    "    training_args['tbPath'] = tbPath\n",
    "    training_args['modelPath'] = modelPath\n",
    "    model_trainer(training_args)"
   ]
  },
  {
   "cell_type": "code",
   "execution_count": 8,
   "metadata": {},
   "outputs": [
    {
     "name": "stdout",
     "output_type": "stream",
     "text": [
      "Model hyper params:_epochs=50_lr=0.01_batchSize=100\n",
      "Validation loss when the model was saved:2.302114398479462\n",
      "Epoch when the model was saved:19\n",
      "Test Error: \n",
      " Accuracy: 9.9%, Avg loss: 2.302786 \n",
      "\n"
     ]
    },
    {
     "ename": "",
     "evalue": "",
     "output_type": "error",
     "traceback": [
      "\u001b[1;31mThe Kernel crashed while executing code in the the current cell or a previous cell. Please review the code in the cell(s) to identify a possible cause of the failure. Click <a href='https://aka.ms/vscodeJupyterKernelCrash'>here</a> for more info. View Jupyter <a href='command:jupyter.viewOutput'>log</a> for further details."
     ]
    }
   ],
   "source": [
    "test_loader = DataLoader(testing_data)\n",
    "## perfroming test\n",
    "checkpoint = torch.load(modelPath + 'bestModelSoFar.pt')\n",
    "model = CNN001()\n",
    "model.load_state_dict(checkpoint['sd'])\n",
    "print(\"Model hyper params:{}\".format(checkpoint['h_params']))\n",
    "print(\"Validation loss when the model was saved:{}\".format(min_loss_so_far))\n",
    "print(\"Epoch when the model was saved:{}\".format(checkpoint['saved_epoch']))\n",
    "loss_criteria = nn.CrossEntropyLoss()\n",
    "test_size = len(test_loader.dataset)\n",
    "num_test_batches = len(test_loader)\n",
    "test_loss, correct = 0, 0\n",
    "model.to(device)\n",
    "model.eval()\n",
    "with torch.no_grad():\n",
    "    for X, y in test_loader:\n",
    "        X = X.to(device)\n",
    "        y = y.to(device)\n",
    "        pred = model(X)\n",
    "        loss = loss_criteria(pred, y).item()\n",
    "        test_loss += loss\n",
    "        correct += (pred.argmax(1) == y).type(torch.float).sum().item()\n",
    "test_loss /= num_test_batches\n",
    "correct /= test_size\n",
    "accuracy = 100*correct\n",
    "print(f\"Test Error: \\n Accuracy: {(accuracy):>0.1f}%, Avg loss: {test_loss:>8f} \\n\")\n",
    "del model"
   ]
  }
 ],
 "metadata": {
  "kernelspec": {
   "display_name": "anp_103",
   "language": "python",
   "name": "python3"
  },
  "language_info": {
   "codemirror_mode": {
    "name": "ipython",
    "version": 3
   },
   "file_extension": ".py",
   "mimetype": "text/x-python",
   "name": "python",
   "nbconvert_exporter": "python",
   "pygments_lexer": "ipython3",
   "version": "3.8.16"
  },
  "orig_nbformat": 4,
  "vscode": {
   "interpreter": {
    "hash": "cbdafac1f6ea99af6eaf0342c20a62a9ed38a0796dcb7c06cf36ab5a452b9387"
   }
  }
 },
 "nbformat": 4,
 "nbformat_minor": 2
}
